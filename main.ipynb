{
 "cells": [
  {
   "cell_type": "code",
   "execution_count": 1,
   "metadata": {},
   "outputs": [
    {
     "name": "stderr",
     "output_type": "stream",
     "text": [
      "/usr/local/lib/python2.7/dist-packages/h5py/__init__.py:36: FutureWarning: Conversion of the second argument of issubdtype from `float` to `np.floating` is deprecated. In future, it will be treated as `np.float64 == np.dtype(float).type`.\n",
      "  from ._conv import register_converters as _register_converters\n",
      "Using TensorFlow backend.\n"
     ]
    }
   ],
   "source": [
    "from Coach import Coach\n",
    "from connectfour.ConnectFourGame import ConnectFourGame as Game\n",
    "from connectfour.keras.NNet import NNetWrapper as nn\n",
    "from utils import *"
   ]
  },
  {
   "cell_type": "code",
   "execution_count": 2,
   "metadata": {
    "scrolled": false
   },
   "outputs": [
    {
     "name": "stdout",
     "output_type": "stream",
     "text": [
      "WARNING:tensorflow:From /home/muddassar/.local/lib/python2.7/site-packages/keras/backend/tensorflow_backend.py:1264: calling reduce_prod (from tensorflow.python.ops.math_ops) with keep_dims is deprecated and will be removed in a future version.\n",
      "Instructions for updating:\n",
      "keep_dims is deprecated, use keepdims instead\n",
      "WARNING:tensorflow:From /home/muddassar/.local/lib/python2.7/site-packages/keras/backend/tensorflow_backend.py:2885: calling reduce_sum (from tensorflow.python.ops.math_ops) with keep_dims is deprecated and will be removed in a future version.\n",
      "Instructions for updating:\n",
      "keep_dims is deprecated, use keepdims instead\n",
      "WARNING:tensorflow:From /home/muddassar/.local/lib/python2.7/site-packages/keras/backend/tensorflow_backend.py:1349: calling reduce_mean (from tensorflow.python.ops.math_ops) with keep_dims is deprecated and will be removed in a future version.\n",
      "Instructions for updating:\n",
      "keep_dims is deprecated, use keepdims instead\n",
      "------ITER 1------\n",
      "\u001b[KSelf Play |################################| (2/2) Eps Time: 9.570s | Total: 0:00:19 | ETA: 0:00:110\n",
      "\u001b[?25hCheckpoint Directory exists! \n",
      "input board\n",
      "[[[ 0  1  0 ...  0  0  0]\n",
      "  [ 0  0  0 ...  0  0  0]\n",
      "  [ 0  0  0 ...  0  0 -1]\n",
      "  [ 1  0  0 ...  0  0 -1]\n",
      "  [ 0  0  0 ...  0  0  0]\n",
      "  [ 0  0 -1 ...  0  0  0]]\n",
      "\n",
      " [[ 0  0  0 ... -1 -1  0]\n",
      "  [ 0  0 -1 ...  0 -1  1]\n",
      "  [ 1  0  0 ...  0  0  1]\n",
      "  [ 1  0  0 ...  0  0 -1]\n",
      "  [-1  0  1 ...  0  0  0]\n",
      "  [-1  1  1 ...  1 -1  0]]\n",
      "\n",
      " [[ 0  0  0 ...  1  0  0]\n",
      "  [ 0  0  0 ...  0  0  0]\n",
      "  [ 1  0  0 ...  0  0  0]\n",
      "  [ 0  0  0 ...  0  0  0]\n",
      "  [ 0  0 -1 ...  0  0  0]\n",
      "  [ 0  0  0 ...  0  0  0]]\n",
      "\n",
      " ...\n",
      "\n",
      " [[ 0  0  0 ...  0  0  0]\n",
      "  [ 0  1  1 ...  1  0  0]\n",
      "  [ 0 -1  0 ...  0  1 -1]\n",
      "  [-1  0  1 ...  0  0 -1]\n",
      "  [-1  0  0 ...  0  0  0]\n",
      "  [ 0  0 -1 ...  0  0 -1]]\n",
      "\n",
      " [[ 0  0  0 ... -1  0  0]\n",
      "  [ 0  0  0 ...  0  0  0]\n",
      "  [-1  0  0 ...  0  0  0]\n",
      "  [ 0  0  0 ...  0  0  0]\n",
      "  [ 0  0  1 ...  0  0  0]\n",
      "  [ 0  0  0 ...  0  0  0]]\n",
      "\n",
      " [[ 0  0  0 ... -1  0  0]\n",
      "  [ 0  0  0 ...  0  0 -1]\n",
      "  [-1  0  0 ...  1  0 -1]\n",
      "  [-1  0  0 ...  0  0  0]\n",
      "  [ 0  0  1 ...  0  1  0]\n",
      "  [ 0  0  0 ...  0  0  0]]]\n",
      "Epoch 1/10\n",
      "144/144 [==============================] - 9s 60ms/step - loss: 5.4740 - pi_loss: 4.3181 - v_loss: 1.1559\n",
      "Epoch 2/10\n",
      "144/144 [==============================] - 8s 53ms/step - loss: 4.1656 - pi_loss: 3.8026 - v_loss: 0.3630\n",
      "Epoch 3/10\n",
      "144/144 [==============================] - 7s 49ms/step - loss: 4.0253 - pi_loss: 3.6580 - v_loss: 0.3673\n",
      "Epoch 4/10\n",
      "144/144 [==============================] - 7s 51ms/step - loss: 3.8931 - pi_loss: 3.5568 - v_loss: 0.3363\n",
      "Epoch 5/10\n",
      "144/144 [==============================] - 8s 54ms/step - loss: 3.8113 - pi_loss: 3.5945 - v_loss: 0.2168\n",
      "Epoch 6/10\n",
      "144/144 [==============================] - 7s 51ms/step - loss: 3.6420 - pi_loss: 3.4936 - v_loss: 0.1484\n",
      "Epoch 7/10\n",
      "144/144 [==============================] - 7s 51ms/step - loss: 3.7068 - pi_loss: 3.4813 - v_loss: 0.2255\n",
      "Epoch 8/10\n",
      "144/144 [==============================] - 7s 48ms/step - loss: 3.5480 - pi_loss: 3.4432 - v_loss: 0.1048\n",
      "Epoch 9/10\n",
      "144/144 [==============================] - 7s 48ms/step - loss: 3.5604 - pi_loss: 3.3368 - v_loss: 0.2236\n",
      "Epoch 10/10\n",
      "144/144 [==============================] - 7s 49ms/step - loss: 3.5373 - pi_loss: 3.3413 - v_loss: 0.1959\n",
      "PITTING AGAINST PREVIOUS VERSION\n",
      "\u001b[KArena.playGames |################################| (41/20) Eps Time: 6.516s | Total: 0:04:20 | ETA: 0:00:09\n",
      "\u001b[?25hNEW/PREV WINS : 0 / 40 ; DRAWS : 0\n",
      "REJECTING NEW MODEL\n"
     ]
    }
   ],
   "source": [
    "args = dotdict({\n",
    "    'numIters': 1,\n",
    "    'numEps': 2,\n",
    "    'tempThreshold': 15,\n",
    "    'updateThreshold': 0.6,\n",
    "    'maxlenOfQueue': 200000,\n",
    "    'numMCTSSims': 25,\n",
    "    'arenaCompare': 40,\n",
    "    'cpuct': 1,\n",
    "\n",
    "    'checkpoint': './temp/',\n",
    "    'load_model': False,\n",
    "    'load_folder_file': ('/dev/models/8x100x50','best.pth.tar'),\n",
    "    'numItersForTrainExamplesHistory': 20,\n",
    "\n",
    "})\n",
    "\n",
    "if __name__==\"__main__\":\n",
    "    g = Game()\n",
    "    nnet = nn(g)\n",
    "\n",
    "    if args.load_model:\n",
    "        nnet.load_checkpoint(args.load_folder_file[0], args.load_folder_file[1])\n",
    "\n",
    "    c = Coach(g, nnet, args)\n",
    "    if args.load_model:\n",
    "        print(\"Load trainExamples from file\")\n",
    "        c.loadTrainExamples()\n",
    "    c.learn()"
   ]
  },
  {
   "cell_type": "code",
   "execution_count": 3,
   "metadata": {},
   "outputs": [],
   "source": [
    "import numpy as np"
   ]
  },
  {
   "cell_type": "code",
   "execution_count": 4,
   "metadata": {},
   "outputs": [
    {
     "data": {
      "text/plain": [
       "[[1, 2, 3], [4, 5, 6]]"
      ]
     },
     "execution_count": 4,
     "metadata": {},
     "output_type": "execute_result"
    }
   ],
   "source": [
    "x= [[1,2,3],[4,5,6]]\n",
    "x"
   ]
  },
  {
   "cell_type": "code",
   "execution_count": 5,
   "metadata": {},
   "outputs": [
    {
     "data": {
      "text/plain": [
       "array([[4, 1],\n",
       "       [5, 2],\n",
       "       [6, 3]])"
      ]
     },
     "execution_count": 5,
     "metadata": {},
     "output_type": "execute_result"
    }
   ],
   "source": [
    "newB = np.rot90(x, 3)\n",
    "newB"
   ]
  },
  {
   "cell_type": "code",
   "execution_count": null,
   "metadata": {},
   "outputs": [],
   "source": []
  }
 ],
 "metadata": {
  "kernelspec": {
   "display_name": "Python 2",
   "language": "python",
   "name": "python2"
  },
  "language_info": {
   "codemirror_mode": {
    "name": "ipython",
    "version": 2
   },
   "file_extension": ".py",
   "mimetype": "text/x-python",
   "name": "python",
   "nbconvert_exporter": "python",
   "pygments_lexer": "ipython2",
   "version": "2.7.12"
  }
 },
 "nbformat": 4,
 "nbformat_minor": 2
}
