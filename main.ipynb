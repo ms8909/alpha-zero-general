{
 "cells": [
  {
   "cell_type": "code",
   "execution_count": 6,
   "metadata": {},
   "outputs": [],
   "source": [
    "from Coach import Coach\n",
    "from connectfour.ConnectFourGame import ConnectFourGame as Game\n",
    "from connectfour.keras.NNet import NNetWrapper as nn\n",
    "from utils import *"
   ]
  },
  {
   "cell_type": "code",
   "execution_count": 7,
   "metadata": {
    "scrolled": false
   },
   "outputs": [
    {
     "name": "stdout",
     "output_type": "stream",
     "text": [
      "------ITER 1------\n",
      "\u001b[KSelf Play |################################| (1/1) Eps Time: 8.947s | Total: 0:00:08 | ETA: 0:00:00\n",
      "\u001b[?25hCheckpoint Directory exists! \n",
      "input board\n",
      "[[[ 0 -1  0 ...  0  1 -1]\n",
      "  [ 0  0  0 ...  0  0  0]\n",
      "  [ 0  1  0 ...  0  0  0]\n",
      "  [ 1  0  0 ... -1  1  0]\n",
      "  [ 0 -1 -1 ...  0  0  0]\n",
      "  [ 0  0  0 ...  0  1  0]]\n",
      "\n",
      " [[ 0 -1  0 ...  0  1 -1]\n",
      "  [ 0  0  0 ...  0  0  0]\n",
      "  [ 0  1  0 ...  0  0  0]\n",
      "  [ 1  0  0 ... -1  1 -1]\n",
      "  [ 0 -1 -1 ...  1  0  0]\n",
      "  [ 0  0  0 ...  0  1  0]]\n",
      "\n",
      " [[ 0  0  0 ...  0  1 -1]\n",
      "  [ 0  0  0 ...  0  0  0]\n",
      "  [ 0  1  0 ...  0  0  0]\n",
      "  [ 0  0  0 ... -1  0  0]\n",
      "  [ 0 -1  0 ...  0  0  0]\n",
      "  [ 0  0  0 ...  0  0  0]]\n",
      "\n",
      " ...\n",
      "\n",
      " [[-1  1  0 ...  0 -1  0]\n",
      "  [ 0  0  0 ...  0  0  0]\n",
      "  [ 0  0  0 ...  0  1  0]\n",
      "  [ 0  1 -1 ...  0  0  0]\n",
      "  [ 0  0  0 ...  0 -1  0]\n",
      "  [ 0  0  0 ...  0  0  0]]\n",
      "\n",
      " [[ 0 -1  0 ...  0  0  0]\n",
      "  [ 0  0 -1 ...  1  1  0]\n",
      "  [ 0 -1  1 ...  0  0 -1]\n",
      "  [ 0  0  0 ...  0 -1  0]\n",
      "  [ 0  0  0 ...  0  0  0]\n",
      "  [ 1 -1  0 ...  0  1  0]]\n",
      "\n",
      " [[ 0  0  0 ...  0  0  0]\n",
      "  [ 0  0  0 ...  0  0  0]\n",
      "  [ 0  1  0 ...  0  0  0]\n",
      "  [ 0  0  0 ...  0  0  0]\n",
      "  [ 0 -1  0 ...  0  0  0]\n",
      "  [ 0  0  0 ...  0  0  0]]]\n",
      "Epoch 1/10\n",
      "60/60 [==============================] - 4s 72ms/step - loss: 5.7769 - pi_loss: 4.3518 - v_loss: 1.4251\n",
      "Epoch 2/10\n",
      "60/60 [==============================] - 3s 50ms/step - loss: 4.4272 - pi_loss: 4.1036 - v_loss: 0.3236\n",
      "Epoch 3/10\n",
      "60/60 [==============================] - 3s 55ms/step - loss: 4.3737 - pi_loss: 3.8742 - v_loss: 0.4995\n",
      "Epoch 4/10\n",
      "60/60 [==============================] - 3s 52ms/step - loss: 3.9479 - pi_loss: 3.8161 - v_loss: 0.1318\n",
      "Epoch 5/10\n",
      "60/60 [==============================] - 3s 51ms/step - loss: 4.1446 - pi_loss: 3.7404 - v_loss: 0.4042\n",
      "Epoch 6/10\n",
      "60/60 [==============================] - 3s 48ms/step - loss: 3.9841 - pi_loss: 3.6888 - v_loss: 0.2953\n",
      "Epoch 7/10\n",
      "60/60 [==============================] - 3s 47ms/step - loss: 3.7595 - pi_loss: 3.7012 - v_loss: 0.0582\n",
      "Epoch 8/10\n",
      "60/60 [==============================] - 3s 51ms/step - loss: 3.7249 - pi_loss: 3.6218 - v_loss: 0.1031\n",
      "Epoch 9/10\n",
      "60/60 [==============================] - 3s 58ms/step - loss: 3.6833 - pi_loss: 3.6159 - v_loss: 0.0673\n",
      "Epoch 10/10\n",
      "60/60 [==============================] - 3s 47ms/step - loss: 3.6440 - pi_loss: 3.5572 - v_loss: 0.0869\n",
      "PITTING AGAINST PREVIOUS VERSION\n",
      "\u001b[KArena.playGames |################################| (41/20) Eps Time: 5.615s | Total: 0:03:44 | ETA: 0:00:06\n",
      "\u001b[?25hNEW/PREV WINS : 1 / 39 ; DRAWS : 0\n",
      "REJECTING NEW MODEL\n"
     ]
    }
   ],
   "source": [
    "args = dotdict({\n",
    "    'numIters': 1,\n",
    "    'numEps': 1,\n",
    "    'tempThreshold': 15,\n",
    "    'updateThreshold': 0.6,\n",
    "    'maxlenOfQueue': 200000,\n",
    "    'numMCTSSims': 25,\n",
    "    'arenaCompare': 40,\n",
    "    'cpuct': 1,\n",
    "\n",
    "    'checkpoint': './temp/',\n",
    "    'load_model': False,\n",
    "    'load_folder_file': ('/dev/models/8x100x50','best.pth.tar'),\n",
    "    'numItersForTrainExamplesHistory': 20,\n",
    "\n",
    "})\n",
    "\n",
    "if __name__==\"__main__\":\n",
    "    g = Game()\n",
    "    nnet = nn(g)\n",
    "\n",
    "    if args.load_model:\n",
    "        nnet.load_checkpoint(args.load_folder_file[0], args.load_folder_file[1])\n",
    "\n",
    "    c = Coach(g, nnet, args)\n",
    "    if args.load_model:\n",
    "        print(\"Load trainExamples from file\")\n",
    "        c.loadTrainExamples()\n",
    "    c.learn()"
   ]
  },
  {
   "cell_type": "code",
   "execution_count": 3,
   "metadata": {},
   "outputs": [],
   "source": [
    "import numpy as np"
   ]
  },
  {
   "cell_type": "code",
   "execution_count": 4,
   "metadata": {},
   "outputs": [
    {
     "data": {
      "text/plain": [
       "[[1, 2, 3], [4, 5, 6]]"
      ]
     },
     "execution_count": 4,
     "metadata": {},
     "output_type": "execute_result"
    }
   ],
   "source": [
    "x= [[1,2,3],[4,5,6]]\n",
    "x"
   ]
  },
  {
   "cell_type": "code",
   "execution_count": 5,
   "metadata": {},
   "outputs": [
    {
     "data": {
      "text/plain": [
       "array([[4, 1],\n",
       "       [5, 2],\n",
       "       [6, 3]])"
      ]
     },
     "execution_count": 5,
     "metadata": {},
     "output_type": "execute_result"
    }
   ],
   "source": [
    "newB = np.rot90(x, 3)\n",
    "newB"
   ]
  },
  {
   "cell_type": "code",
   "execution_count": null,
   "metadata": {},
   "outputs": [],
   "source": []
  }
 ],
 "metadata": {
  "kernelspec": {
   "display_name": "Python 2",
   "language": "python",
   "name": "python2"
  },
  "language_info": {
   "codemirror_mode": {
    "name": "ipython",
    "version": 2
   },
   "file_extension": ".py",
   "mimetype": "text/x-python",
   "name": "python",
   "nbconvert_exporter": "python",
   "pygments_lexer": "ipython2",
   "version": "2.7.12"
  }
 },
 "nbformat": 4,
 "nbformat_minor": 2
}
